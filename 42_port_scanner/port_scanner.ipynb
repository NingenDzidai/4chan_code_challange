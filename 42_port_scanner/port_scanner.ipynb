{
 "cells": [
  {
   "cell_type": "code",
   "execution_count": 1,
   "metadata": {},
   "outputs": [],
   "source": [
    "import socket"
   ]
  },
  {
   "cell_type": "code",
   "execution_count": 2,
   "metadata": {},
   "outputs": [],
   "source": [
    "ports_open = []  # array to write open ports"
   ]
  },
  {
   "cell_type": "code",
   "execution_count": 3,
   "metadata": {},
   "outputs": [],
   "source": [
    "def port_scanner(ip, start_port, end_port):                                           \n",
    "    sock = socket.socket(socket.AF_INET, socket.SOCK_STREAM)    \n",
    "    print('Connecting to', ip)\n",
    "    try:\n",
    "        for i in range(start_port, end_port):\n",
    "            s = sock.connect_ex((ip, i))                        # open connection with ip + port\n",
    "            if s:\n",
    "                print('Port', i, 'is open')\n",
    "            sock.close\n",
    "            ports_open.append(i)\n",
    "    except:\n",
    "        KeyboardInterrupt\n",
    "        print('\\nScript terminated!')"
   ]
  },
  {
   "cell_type": "code",
   "execution_count": 5,
   "metadata": {},
   "outputs": [],
   "source": [
    "ip = '127.0.0.1'\n",
    "star_port = 1\n",
    "end_port = 10"
   ]
  },
  {
   "cell_type": "code",
   "execution_count": 6,
   "metadata": {},
   "outputs": [
    {
     "name": "stdout",
     "output_type": "stream",
     "text": [
      "Connecting to 127.0.0.1\n",
      "Port 1 is open\n",
      "\n",
      "Script terminated!\n"
     ]
    }
   ],
   "source": [
    "port_scanner(ip, start_port = star_port, end_port=end_port)"
   ]
  }
 ],
 "metadata": {
  "kernelspec": {
   "display_name": "Python 3",
   "language": "python",
   "name": "python3"
  },
  "language_info": {
   "codemirror_mode": {
    "name": "ipython",
    "version": 3
   },
   "file_extension": ".py",
   "mimetype": "text/x-python",
   "name": "python",
   "nbconvert_exporter": "python",
   "pygments_lexer": "ipython3",
   "version": "3.11.2"
  },
  "orig_nbformat": 4
 },
 "nbformat": 4,
 "nbformat_minor": 2
}
